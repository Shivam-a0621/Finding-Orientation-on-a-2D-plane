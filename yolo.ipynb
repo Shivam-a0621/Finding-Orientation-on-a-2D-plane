{
 "cells": [
  {
   "cell_type": "code",
   "execution_count": 1,
   "metadata": {},
   "outputs": [],
   "source": [
    "from ultralytics import YOLO"
   ]
  },
  {
   "cell_type": "code",
   "execution_count": 2,
   "metadata": {},
   "outputs": [],
   "source": [
    "model = YOLO(\"best.pt\")"
   ]
  },
  {
   "cell_type": "code",
   "execution_count": 3,
   "metadata": {},
   "outputs": [
    {
     "name": "stdout",
     "output_type": "stream",
     "text": [
      "\n",
      "image 1/1 f:\\projects\\assignment_2dorientation\\temp_img.jpg: 384x640 1 object, 303.1ms\n",
      "Speed: 3.0ms preprocess, 303.1ms inference, 248.6ms postprocess per image at shape (1, 3, 384, 640)\n"
     ]
    },
    {
     "ename": "",
     "evalue": "",
     "output_type": "error",
     "traceback": [
      "\u001b[1;31mThe Kernel crashed while executing code in the current cell or a previous cell. \n",
      "\u001b[1;31mPlease review the code in the cell(s) to identify a possible cause of the failure. \n",
      "\u001b[1;31mClick <a href='https://aka.ms/vscodeJupyterKernelCrash'>here</a> for more info. \n",
      "\u001b[1;31mView Jupyter <a href='command:jupyter.viewOutput'>log</a> for further details."
     ]
    }
   ],
   "source": [
    "segment=model.predict(\"temp_img.jpg\",show=True)"
   ]
  },
  {
   "cell_type": "code",
   "execution_count": 6,
   "metadata": {},
   "outputs": [
    {
     "data": {
      "text/plain": [
       "[ultralytics.engine.results.Results object with attributes:\n",
       " \n",
       " boxes: ultralytics.engine.results.Boxes object\n",
       " keypoints: None\n",
       " masks: ultralytics.engine.results.Masks object\n",
       " names: {0: 'object'}\n",
       " obb: None\n",
       " orig_img: array([[[168,  92,  44],\n",
       "         [169,  93,  45],\n",
       "         [169,  93,  44],\n",
       "         ...,\n",
       "         [105,  47,   0],\n",
       "         [106,  48,   0],\n",
       "         [107,  49,   0]],\n",
       " \n",
       "        [[168,  92,  44],\n",
       "         [169,  93,  44],\n",
       "         [169,  93,  44],\n",
       "         ...,\n",
       "         [106,  48,   0],\n",
       "         [106,  48,   0],\n",
       "         [106,  48,   0]],\n",
       " \n",
       "        [[168,  92,  43],\n",
       "         [168,  93,  41],\n",
       "         [169,  94,  42],\n",
       "         ...,\n",
       "         [106,  48,   0],\n",
       "         [106,  48,   0],\n",
       "         [106,  48,   0]],\n",
       " \n",
       "        ...,\n",
       " \n",
       "        [[117,  49,   6],\n",
       "         [116,  48,   5],\n",
       "         [113,  48,   4],\n",
       "         ...,\n",
       "         [116,  51,   0],\n",
       "         [116,  51,   0],\n",
       "         [116,  51,   0]],\n",
       " \n",
       "        [[115,  46,   6],\n",
       "         [114,  45,   5],\n",
       "         [113,  47,   6],\n",
       "         ...,\n",
       "         [115,  52,   1],\n",
       "         [114,  51,   0],\n",
       "         [114,  51,   0]],\n",
       " \n",
       "        [[117,  48,   8],\n",
       "         [117,  48,   8],\n",
       "         [116,  50,   9],\n",
       "         ...,\n",
       "         [115,  52,   1],\n",
       "         [115,  52,   1],\n",
       "         [115,  52,   1]]], dtype=uint8)\n",
       " orig_shape: (1080, 1920)\n",
       " path: 'f:\\\\projects\\\\assignment_2dorientation\\\\temp_img.jpg'\n",
       " probs: None\n",
       " save_dir: 'runs\\\\segment\\\\predict'\n",
       " speed: {'preprocess': 2.9985904693603516, 'inference': 239.24660682678223, 'postprocess': 2.999544143676758}]"
      ]
     },
     "execution_count": 6,
     "metadata": {},
     "output_type": "execute_result"
    }
   ],
   "source": [
    "segment"
   ]
  },
  {
   "cell_type": "code",
   "execution_count": null,
   "metadata": {},
   "outputs": [],
   "source": []
  }
 ],
 "metadata": {
  "kernelspec": {
   "display_name": "base",
   "language": "python",
   "name": "python3"
  },
  "language_info": {
   "codemirror_mode": {
    "name": "ipython",
    "version": 3
   },
   "file_extension": ".py",
   "mimetype": "text/x-python",
   "name": "python",
   "nbconvert_exporter": "python",
   "pygments_lexer": "ipython3",
   "version": "3.9.13"
  }
 },
 "nbformat": 4,
 "nbformat_minor": 2
}
